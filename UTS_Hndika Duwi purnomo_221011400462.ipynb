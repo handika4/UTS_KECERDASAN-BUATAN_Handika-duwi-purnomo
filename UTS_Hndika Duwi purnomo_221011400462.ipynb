{
 "cells": [
  {
   "cell_type": "code",
   "execution_count": 4,
   "id": "b609e614-3591-4bf0-862a-4843fea199e0",
   "metadata": {},
   "outputs": [
    {
     "name": "stdout",
     "output_type": "stream",
     "text": [
      "Company 3\n",
      "Company 2\n",
      "Company 1\n"
     ]
    }
   ],
   "source": [
    "# Data\n",
    "\n",
    "company_detail_list = [\n",
    "      {\n",
    "          'name': 'Company 1',\n",
    "          'domain': 'Retail',\n",
    "          'country': 'United States'\n",
    "      },\n",
    "      {\n",
    "          'name': 'Company 2',\n",
    "          'domain': 'Technology',\n",
    "          'country': 'United Kingdom'\n",
    "      },\n",
    "      {\n",
    "          'name': 'Company 3',\n",
    "          'domain': 'Healthcare',\n",
    "          'country': 'United States'\n",
    "      }\n",
    "  ]\n",
    "\n",
    "employee_detail_list = [\n",
    "     {\n",
    "          'name': 'EMP-0001',\n",
    "          'first_name': 'John',\n",
    "          'last_name': 'Doe',\n",
    "          'full_name': 'John Doe',\n",
    "          'company': 'Company 1',\n",
    "          'nationality': 'Australia'\n",
    "      },\n",
    "      {\n",
    "          'name': 'EMP-0002',\n",
    "          'first_name': 'Tom',\n",
    "          'last_name': 'Smith',\n",
    "          'full_name': 'Tom Smith',\n",
    "          'company': 'Company 2',\n",
    "          'nationality': 'United States'\n",
    "      },\n",
    "      {\n",
    "          'name': 'EMP-0003',\n",
    "          'first_name': 'Andrew',\n",
    "          'last_name': 'Sebastian',\n",
    "          'full_name': 'Andrew Sebastian',\n",
    "          'company': 'Company 3',\n",
    "          'nationality': 'United States'\n",
    "      },\n",
    "      {\n",
    "          'name': 'EMP-0005',\n",
    "          'first_name': 'Ying Han',\n",
    "          'last_name': 'Tan',\n",
    "          'full_name': 'Ying Han Tan',\n",
    "          'company': 'Company 1',\n",
    "          'nationality': 'Australia'\n",
    "      },\n",
    "      {\n",
    "          'name': 'EMP-0015',\n",
    "          'first_name': 'Kenneth',\n",
    "          'last_name': 'Ng',\n",
    "          'full_name': 'Kenneth Ng',\n",
    "          'company': 'Company 3',\n",
    "          'nationality': 'United States'\n",
    "      },\n",
    "      {\n",
    "          'name': 'EMP-0018',\n",
    "          'first_name': 'Rubby',\n",
    "          'last_name': 'Lee',\n",
    "          'full_name': 'Rubby Lee',\n",
    "          'company': 'Company 2',\n",
    "          'nationality': 'Hong Kong'\n",
    "      },\n",
    "     {\n",
    "          'name': 'EMP-0017',\n",
    "          'first_name': 'Robert',\n",
    "          'last_name': 'White',\n",
    "          'full_name': 'Robert White',\n",
    "          'company': 'Company 1',\n",
    "          'nationality': 'United Kingdom'\n",
    "      }\n",
    "  ]\n",
    "\n",
    "sorted_companies = sorted([{'name': company['name']} for company in company_detail_list ], key=lambda x: x['name'], reverse=True)\n",
    "\n",
    "for company in sorted_companies:\n",
    "    print(company['name'])"
   ]
  },
  {
   "cell_type": "code",
   "execution_count": 5,
   "id": "3669f766-6828-4538-9b0b-683f9e9475c1",
   "metadata": {},
   "outputs": [
    {
     "name": "stdout",
     "output_type": "stream",
     "text": [
      "Company 1: Retail (United States)\n",
      "Company 2: Technology (United Kingdom)\n",
      "Company 3: Healthcare (United States)\n"
     ]
    }
   ],
   "source": [
    "for company in company_detail_list:\n",
    "    print(f\"{company['name']}: {company['domain']} ({company['country']})\")"
   ]
  },
  {
   "cell_type": "code",
   "execution_count": 9,
   "id": "d208c168-f0ec-428a-956f-dbcf121e87b8",
   "metadata": {},
   "outputs": [
    {
     "data": {
      "text/plain": [
       "{'Retail': ['John Doe', 'Ying Han Tan', 'Robert White'],\n",
       " 'Technology': ['Tom Smith', 'Rubby Lee'],\n",
       " 'Healthcare': ['Andrew Sebastian', 'Kenneth Ng']}"
      ]
     },
     "execution_count": 9,
     "metadata": {},
     "output_type": "execute_result"
    }
   ],
   "source": [
    "# Create a mapping from company names to domains for quick lookup\n",
    "company_to_domain = {company['name']: company['domain'] for company in company_detail_list}\n",
    "\n",
    "# Organize employees by company domain\n",
    "employees_by_domain = {}\n",
    "for employee in employee_detail_list:\n",
    "    # Get the domain for the employee's company\n",
    "    domain = company_to_domain.get(employee['company'], None)\n",
    "    \n",
    "    # Add the employee's full name to the corresponding domain list\n",
    "    if domain:\n",
    "        if domain not in employees_by_domain:\n",
    "            employees_by_domain[domain] = []\n",
    "        employees_by_domain[domain].append(employee['full_name'])\n",
    "\n",
    "employees_by_domain"
   ]
  },
  {
   "cell_type": "code",
   "execution_count": 10,
   "id": "0cab7987-c363-4646-b795-fda4b266ccee",
   "metadata": {},
   "outputs": [
    {
     "data": {
      "text/plain": [
       "[{'full_name': 'John Doe', 'company': 'Company 1', 'country': 'United States'},\n",
       " {'full_name': 'Tom Smith',\n",
       "  'company': 'Company 2',\n",
       "  'country': 'United Kingdom'},\n",
       " {'full_name': 'Andrew Sebastian',\n",
       "  'company': 'Company 3',\n",
       "  'country': 'United States'},\n",
       " {'full_name': 'Ying Han Tan',\n",
       "  'company': 'Company 1',\n",
       "  'country': 'United States'},\n",
       " {'full_name': 'Kenneth Ng',\n",
       "  'company': 'Company 3',\n",
       "  'country': 'United States'},\n",
       " {'full_name': 'Rubby Lee',\n",
       "  'company': 'Company 2',\n",
       "  'country': 'United Kingdom'},\n",
       " {'full_name': 'Robert White',\n",
       "  'company': 'Company 1',\n",
       "  'country': 'United States'}]"
      ]
     },
     "execution_count": 10,
     "metadata": {},
     "output_type": "execute_result"
    }
   ],
   "source": [
    "\n",
    "def get_employees_with_company_country(employee_list, company_list):\n",
    "    company_to_country = {company['name']: company['country'] for company in company_list}\n",
    "    employees_with_country = [\n",
    "        {\n",
    "            \"full_name\": employee['full_name'],\n",
    "            \"company\": employee['company'],\n",
    "            \"country\": company_to_country.get(employee['company'], \"Unknown\")\n",
    "        }\n",
    "        for employee in employee_list\n",
    "    ] \n",
    "    return employees_with_country\n",
    "get_employees_with_company_country(employee_detail_list, company_detail_list)"
   ]
  },
  {
   "cell_type": "code",
   "execution_count": 11,
   "id": "653f26bc-2714-4010-9cdf-1bc98428c56d",
   "metadata": {},
   "outputs": [
    {
     "data": {
      "text/plain": [
       "[{'company': 'Company 1',\n",
       "  'employee_nationality': {'Australia': 2, 'United Kingdom': 1}},\n",
       " {'company': 'Company 2',\n",
       "  'employee_nationality': {'United States': 1, 'Hong Kong': 1}},\n",
       " {'company': 'Company 3', 'employee_nationality': {'United States': 2}}]"
      ]
     },
     "execution_count": 11,
     "metadata": {},
     "output_type": "execute_result"
    }
   ],
   "source": [
    "def get_company_nationality_count():\n",
    "    result = []\n",
    "    for company in company_detail_list:\n",
    "        nationality_count = {}\n",
    "        for employee in employee_detail_list:\n",
    "            if employee['company'] == company['name']:\n",
    "                nationality = employee['nationality']\n",
    "                if nationality in nationality_count:\n",
    "                    nationality_count[nationality] += 1\n",
    "                else:\n",
    "                    nationality_count[nationality] = 1\n",
    "        result.append({\n",
    "            'company': company['name'],\n",
    "            'employee_nationality': nationality_count\n",
    "        })\n",
    "    return result\n",
    "\n",
    "get_company_nationality_count()"
   ]
  },
  {
   "cell_type": "code",
   "execution_count": null,
   "id": "e79b2db7-4136-4a19-a510-5255ecb15156",
   "metadata": {},
   "outputs": [],
   "source": []
  }
 ],
 "metadata": {
  "kernelspec": {
   "display_name": "Python 3 (ipykernel)",
   "language": "python",
   "name": "python3"
  },
  "language_info": {
   "codemirror_mode": {
    "name": "ipython",
    "version": 3
   },
   "file_extension": ".py",
   "mimetype": "text/x-python",
   "name": "python",
   "nbconvert_exporter": "python",
   "pygments_lexer": "ipython3",
   "version": "3.12.6"
  }
 },
 "nbformat": 4,
 "nbformat_minor": 5
}
